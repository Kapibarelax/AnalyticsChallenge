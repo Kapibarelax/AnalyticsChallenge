{
 "cells": [
  {
   "cell_type": "code",
   "execution_count": 1,
   "metadata": {},
   "outputs": [
    {
     "name": "stdout",
     "output_type": "stream",
     "text": [
      "Collecting geopandas\n",
      "  Downloading geopandas-0.8.1-py2.py3-none-any.whl (962 kB)\n",
      "\u001b[K     |████████████████████████████████| 962 kB 449 kB/s eta 0:00:01\n",
      "\u001b[?25hCollecting shapely\n",
      "  Downloading Shapely-1.7.0-cp38-cp38-macosx_10_9_x86_64.whl (1.6 MB)\n",
      "\u001b[K     |████████████████████████████████| 1.6 MB 633 kB/s eta 0:00:01\n",
      "\u001b[?25hRequirement already satisfied: pyproj>=2.2.0 in /Users/kazu.28w2ei/.pyenv/versions/3.8.0/lib/python3.8/site-packages (from geopandas) (2.6.1.post1)\n",
      "Requirement already satisfied: pandas>=0.23.0 in /Users/kazu.28w2ei/.pyenv/versions/3.8.0/lib/python3.8/site-packages (from geopandas) (1.0.5)\n",
      "Collecting fiona\n",
      "  Downloading Fiona-1.8.13.post1-cp38-cp38-macosx_10_9_x86_64.whl (14.0 MB)\n",
      "\u001b[K     |████████████████████████████████| 14.0 MB 997 kB/s eta 0:00:01\n",
      "\u001b[?25hRequirement already satisfied: python-dateutil>=2.6.1 in /Users/kazu.28w2ei/.pyenv/versions/3.8.0/lib/python3.8/site-packages (from pandas>=0.23.0->geopandas) (2.8.1)\n",
      "Requirement already satisfied: numpy>=1.13.3 in /Users/kazu.28w2ei/.pyenv/versions/3.8.0/lib/python3.8/site-packages (from pandas>=0.23.0->geopandas) (1.19.0)\n",
      "Requirement already satisfied: pytz>=2017.2 in /Users/kazu.28w2ei/.pyenv/versions/3.8.0/lib/python3.8/site-packages (from pandas>=0.23.0->geopandas) (2020.1)\n",
      "Collecting click<8,>=4.0\n",
      "  Downloading click-7.1.2-py2.py3-none-any.whl (82 kB)\n",
      "\u001b[K     |████████████████████████████████| 82 kB 371 kB/s eta 0:00:01\n",
      "\u001b[?25hRequirement already satisfied: six>=1.7 in /Users/kazu.28w2ei/.pyenv/versions/3.8.0/lib/python3.8/site-packages (from fiona->geopandas) (1.14.0)\n",
      "Collecting cligj>=0.5\n",
      "  Downloading cligj-0.5.0-py3-none-any.whl (5.7 kB)\n",
      "Collecting munch\n",
      "  Downloading munch-2.5.0-py2.py3-none-any.whl (10 kB)\n",
      "Collecting click-plugins>=1.0\n",
      "  Downloading click_plugins-1.1.1-py2.py3-none-any.whl (7.5 kB)\n",
      "Requirement already satisfied: attrs>=17 in /Users/kazu.28w2ei/.pyenv/versions/3.8.0/lib/python3.8/site-packages (from fiona->geopandas) (19.3.0)\n",
      "Installing collected packages: shapely, click, cligj, munch, click-plugins, fiona, geopandas\n",
      "Successfully installed click-7.1.2 click-plugins-1.1.1 cligj-0.5.0 fiona-1.8.13.post1 geopandas-0.8.1 munch-2.5.0 shapely-1.7.0\n",
      "\u001b[33mWARNING: You are using pip version 20.1.1; however, version 20.2.2 is available.\n",
      "You should consider upgrading via the '/Users/kazu.28w2ei/.pyenv/versions/3.8.0/bin/python3.8 -m pip install --upgrade pip' command.\u001b[0m\n"
     ]
    }
   ],
   "source": [
    "!pip install geopandas"
   ]
  },
  {
   "cell_type": "code",
   "execution_count": null,
   "metadata": {},
   "outputs": [],
   "source": []
  }
 ],
 "metadata": {
  "kernelspec": {
   "display_name": "Python 3",
   "language": "python",
   "name": "python3"
  },
  "language_info": {
   "codemirror_mode": {
    "name": "ipython",
    "version": 3
   },
   "file_extension": ".py",
   "mimetype": "text/x-python",
   "name": "python",
   "nbconvert_exporter": "python",
   "pygments_lexer": "ipython3",
   "version": "3.7.4"
  }
 },
 "nbformat": 4,
 "nbformat_minor": 2
}
