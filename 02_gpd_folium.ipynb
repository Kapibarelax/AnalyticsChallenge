{
 "cells": [
  {
   "cell_type": "code",
   "execution_count": null,
   "metadata": {},
   "outputs": [],
   "source": [
    "import pandas as pd\n",
    "import folium\n",
    "import folium.plugins\n",
    "import geopandas as gpd\n",
    "import mplleaflet\n",
    "import matplotlib.pyplot as plt\n",
    "import matplotlib\n",
    "import descartes"
   ]
  },
  {
   "cell_type": "markdown",
   "metadata": {},
   "source": [
    "### データの読み込み"
   ]
  },
  {
   "cell_type": "code",
   "execution_count": null,
   "metadata": {},
   "outputs": [],
   "source": [
    "df_1995 = pd.read_csv('./data/1995.txt',encoding='cp932',skiprows=1)\n",
    "df_1995[\"年代\"]=\"1995\"\n",
    "df_2000 = pd.read_csv('./data/2000.txt',encoding='cp932',skiprows=1)\n",
    "df_2000[\"年代\"]=\"2000\"\n",
    "df_2005 = pd.read_csv('./data/2005.txt',encoding='cp932',skiprows=1)\n",
    "df_2005[\"年代\"]=\"2005\"\n",
    "df_2010 = pd.read_csv('./data/2010.txt',encoding='cp932',skiprows=1)\n",
    "df_2010[\"年代\"]=\"2010\""
   ]
  },
  {
   "cell_type": "code",
   "execution_count": null,
   "metadata": {},
   "outputs": [],
   "source": [
    "mesh_gpd = gpd.read_file('https://www.e-stat.go.jp/gis/statmap-search/data?dlserveyId=H&code=5339&coordSys=1&format=shape&downloadType=5')"
   ]
  },
  {
   "cell_type": "markdown",
   "metadata": {},
   "source": [
    "### 各データのマージ"
   ]
  },
  {
   "cell_type": "code",
   "execution_count": null,
   "metadata": {},
   "outputs": [],
   "source": [
    "df = pd.concat([df_1995,df_2000,df_2005,df_2010])\n",
    "df = df.rename(columns={'Unnamed: 0':'KEY_CODE'})\n",
    "df = df.astype({'KEY_CODE':'str'})"
   ]
  },
  {
   "cell_type": "code",
   "execution_count": null,
   "metadata": {},
   "outputs": [],
   "source": [
    "mesh_gpd"
   ]
  },
  {
   "cell_type": "code",
   "execution_count": null,
   "metadata": {},
   "outputs": [],
   "source": [
    "m = folium.Map(location=(35.689, 139.692),zoom_start='12')\n",
    "folium.Choropleth(\n",
    "    data=df[df[\"年代\"]==\"2005\"],\n",
    "    geo_data=mesh_gpd.to_json(),\n",
    "    name='choropleth',\n",
    "    columns=['KEY_CODE','人口総数'],\n",
    "    key_on='feature.properties.KEY_CODE',\n",
    "    bins=[0,500,1000,2000,5000,12000],\n",
    "    fill_color='OrRd',\n",
    "    fill_opacity=0.7,\n",
    "    nan_fill_opacity=0.2\n",
    ").add_to(m)\n",
    "display(m)"
   ]
  },
  {
   "cell_type": "markdown",
   "metadata": {},
   "source": [
    "### メッシュコード->マップ表示"
   ]
  },
  {
   "cell_type": "markdown",
   "metadata": {},
   "source": [
    "### やり直し"
   ]
  },
  {
   "cell_type": "code",
   "execution_count": null,
   "metadata": {},
   "outputs": [],
   "source": [
    "df = df.astype({'KEY_CODE':'str'})"
   ]
  },
  {
   "cell_type": "code",
   "execution_count": null,
   "metadata": {},
   "outputs": [],
   "source": [
    "?folium.plugins.TimeSliderChoropleth"
   ]
  },
  {
   "cell_type": "code",
   "execution_count": null,
   "metadata": {},
   "outputs": [],
   "source": [
    "aaa = df.to_dict(orient='dict')"
   ]
  },
  {
   "cell_type": "code",
   "execution_count": null,
   "metadata": {},
   "outputs": [],
   "source": [
    "m2 = folium.Map(location=(35.689, 139.692),zoom_start='14')\n",
    "folium.plugins.TimeSliderChoropleth(\n",
    "    data=mesh_gpd.to_json(),\n",
    "    styledict=aaa,\n",
    "    overlay=True,\n",
    "    control=True,\n",
    ").add_to(m2)\n",
    "display(m2)"
   ]
  },
  {
   "cell_type": "code",
   "execution_count": null,
   "metadata": {},
   "outputs": [],
   "source": [
    "df"
   ]
  },
  {
   "cell_type": "code",
   "execution_count": null,
   "metadata": {},
   "outputs": [],
   "source": []
  }
 ],
 "metadata": {
  "kernelspec": {
   "display_name": "Python 3",
   "language": "python",
   "name": "python3"
  },
  "language_info": {
   "codemirror_mode": {
    "name": "ipython",
    "version": 3
   },
   "file_extension": ".py",
   "mimetype": "text/x-python",
   "name": "python",
   "nbconvert_exporter": "python",
   "pygments_lexer": "ipython3",
   "version": "3.8.5"
  }
 },
 "nbformat": 4,
 "nbformat_minor": 4
}
